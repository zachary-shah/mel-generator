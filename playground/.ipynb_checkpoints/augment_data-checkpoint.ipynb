{
 "cells": [
  {
   "cell_type": "code",
   "execution_count": 15,
   "id": "fc7db08f",
   "metadata": {},
   "outputs": [],
   "source": [
    "import librosa\n",
    "import soundfile as sf\n",
    "import os"
   ]
  },
  {
   "cell_type": "code",
   "execution_count": 17,
   "id": "0362c0b3",
   "metadata": {},
   "outputs": [],
   "source": [
    "\n",
    "audio_file = 'pop.00000.wav'\n",
    "audio_files_dir = \"../pop-data/\"\n",
    "#output_dir = \"../augmented-data/\"\n",
    "\n",
    "y, sr = librosa.load(os.path.join(audio_files_dir, audio_file), sr=16000) # y is a numpy array of the wav file, sr = sample rate\n",
    "y_shifted = librosa.effects.pitch_shift(y, sr=sr, n_steps=1)\n",
    "#librosa.output.write_wav(\"out.wav\", y, sr)\n",
    "\n",
    "sf.write(\"out.wav\", y_shifted, sr)"
   ]
  },
  {
   "cell_type": "code",
   "execution_count": 10,
   "id": "27376118",
   "metadata": {},
   "outputs": [
    {
     "data": {
      "text/plain": [
       "(480003,)"
      ]
     },
     "execution_count": 10,
     "metadata": {},
     "output_type": "execute_result"
    }
   ],
   "source": [
    "y.shape"
   ]
  }
 ],
 "metadata": {
  "kernelspec": {
   "display_name": "Python 3 (ipykernel)",
   "language": "python",
   "name": "python3"
  },
  "language_info": {
   "codemirror_mode": {
    "name": "ipython",
    "version": 3
   },
   "file_extension": ".py",
   "mimetype": "text/x-python",
   "name": "python",
   "nbconvert_exporter": "python",
   "pygments_lexer": "ipython3",
   "version": "3.8.3"
  }
 },
 "nbformat": 4,
 "nbformat_minor": 5
}
