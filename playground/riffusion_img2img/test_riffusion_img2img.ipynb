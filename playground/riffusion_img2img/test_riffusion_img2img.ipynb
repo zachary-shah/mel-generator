{
 "cells": [
  {
   "cell_type": "code",
   "execution_count": 1,
   "metadata": {},
   "outputs": [
    {
     "ename": "",
     "evalue": "",
     "output_type": "error",
     "traceback": [
      "\u001b[1;31mThe Kernel crashed while executing code in the the current cell or a previous cell. Please review the code in the cell(s) to identify a possible cause of the failure. Click <a href='https://aka.ms/vscodeJupyterKernelCrash'>here</a> for more info. View Jupyter <a href='command:jupyter.viewOutput'>log</a> for further details."
     ]
    },
    {
     "ename": "",
     "evalue": "",
     "output_type": "error",
     "traceback": [
      "\u001b[1;31mCanceled future for execute_request message before replies were done"
     ]
    }
   ],
   "source": [
    "## test riffusion img 2 img pipeline\n",
    "import io\n",
    "from pathlib import Path\n",
    "\n",
    "import PIL\n",
    "\n",
    "from datatypes import Img2ImgInput, InferenceOutput\n",
    "from riffusion_img2img_pipeline import RiffusionImg2ImgPipeline\n",
    "from spectrogram_image_converter import SpectrogramImageConverter\n",
    "from spectrogram_params import SpectrogramParams\n",
    "from util import base64_util"
   ]
  },
  {
   "cell_type": "code",
   "execution_count": null,
   "metadata": {},
   "outputs": [],
   "source": [
    "# Load the inial image by ID\n",
    "seed_images_dir = \"/Users/zachary/Desktop/Stanford/_Win2023/EE\\ 269/Project/mel-generator/mel-generator/riffusion-reference/seed_images\"\n",
    "init_image_path = Path(seed_images_dir, f\"vibes.png\")\n",
    "init_image = PIL.Image.open(str(init_image_path)).convert(\"RGB\")\n",
    "\n",
    "# setup model input\n",
    "inputs = Img2ImgInput(\n",
    "         text_prompt= \"generate a saxaphone melody in C major\",\n",
    "         seed=0,\n",
    "         init_spectrogram=init_image,\n",
    "         mask_image=None,\n",
    "         negative_prompt=None,\n",
    "         denoising=0.75,\n",
    "         guidance=7.0,\n",
    "         ddim_steps=50,\n",
    "         ddim_eta=0.0,\n",
    "    )\n",
    "\n",
    "# load pipeline \n",
    "pipeline = RiffusionImg2ImgPipeline.load_checkpoint(\n",
    "    checkpoint=\"riffusion/riffusion-model-v1\",\n",
    "    use_traced_unet=True,\n",
    "    device=\"cuda\",\n",
    ")\n",
    "\n",
    "# Execute the model to get the spectrogram image\n",
    "image = pipeline.riffuse(\n",
    "    inputs,\n",
    "    use_reweighting=True,\n",
    ")"
   ]
  },
  {
   "cell_type": "code",
   "execution_count": null,
   "metadata": {},
   "outputs": [],
   "source": [
    "# Reconstruct audio from the image\n",
    "params = SpectrogramParams(\n",
    "    min_frequency=0,\n",
    "    max_frequency=10000,\n",
    ")\n",
    "converter = SpectrogramImageConverter(params=params, device=str(pipeline.device))\n",
    "segment = converter.audio_from_spectrogram_image(\n",
    "    image,\n",
    "    apply_filters=True,\n",
    ")\n",
    "\n",
    "# Export audio to MP3 bytes\n",
    "mp3_bytes = io.BytesIO()\n",
    "segment.export(mp3_bytes, format=\"mp3\")\n",
    "mp3_bytes.seek(0)\n",
    "\n",
    "# Export image to JPEG bytes\n",
    "image_bytes = io.BytesIO()\n",
    "image.save(image_bytes, exif=image.getexif(), format=\"JPEG\")\n",
    "image_bytes.seek(0)\n",
    "\n",
    "# Assemble the output dataclass\n",
    "output = InferenceOutput(\n",
    "    image=\"data:image/jpeg;base64,\" + base64_util.encode(image_bytes),\n",
    "    audio=\"data:audio/mpeg;base64,\" + base64_util.encode(mp3_bytes),\n",
    "    duration_s=segment.duration_seconds,\n",
    ")"
   ]
  }
 ],
 "metadata": {
  "kernelspec": {
   "display_name": "Python 3",
   "language": "python",
   "name": "python3"
  },
  "language_info": {
   "codemirror_mode": {
    "name": "ipython",
    "version": 3
   },
   "file_extension": ".py",
   "mimetype": "text/x-python",
   "name": "python",
   "nbconvert_exporter": "python",
   "pygments_lexer": "ipython3",
   "version": "3.8.5"
  },
  "orig_nbformat": 4,
  "vscode": {
   "interpreter": {
    "hash": "aee8b7b246df8f9039afb4144a1f6fd8d2ca17a180786b69acc140d282b71a49"
   }
  }
 },
 "nbformat": 4,
 "nbformat_minor": 2
}
