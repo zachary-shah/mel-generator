{
 "cells": [
  {
   "cell_type": "code",
   "execution_count": 44,
   "id": "525fa16e",
   "metadata": {},
   "outputs": [],
   "source": [
    "import librosa\n",
    "import soundfile as sf\n",
    "import numpy as np\n",
    "import matplotlib.pyplot as plt\n",
    "import os"
   ]
  },
  {
   "cell_type": "code",
   "execution_count": 39,
   "id": "f0ce90ba",
   "metadata": {},
   "outputs": [],
   "source": [
    "\n",
    "audio_file = 'pop.00000.wav'\n",
    "audio_files_dir = \"../pop-data/\"\n",
    "output_dir = \"../augmented-data/\"\n",
    "\n",
    "y, sr = librosa.load(os.path.join(audio_files_dir, audio_file)) # y is a numpy array of the wav file, sr = sample rate\n",
    "y_shifted = librosa.effects.pitch_shift(y, sr=sr, n_steps=-5)\n",
    "sf.write(\"out.wav\", y_shifted, sr)\n",
    "fs = sr"
   ]
  },
  {
   "cell_type": "code",
   "execution_count": 72,
   "id": "84da41a2",
   "metadata": {},
   "outputs": [],
   "source": [
    "from spec_segment_gen import read_wav_file\n",
    "filepath = os.path.join(audio_files_dir, audio_file)\n",
    "audio_segments = read_wav_file(filepath, fs=fs)\n",
    "\n",
    "pitch_augmented_segs = []\n",
    "# pitch modulation for data augmentation\n",
    "for pitch_offset in [-5, -4, -3, -2, -1, 1, 2, 3, 4, 5, 6]:\n",
    "    for audio_segment in audio_segments:\n",
    "        pitch_augmented_segs.append(librosa.effects.pitch_shift(audio_segment, sr=fs, n_steps=pitch_offset))\n",
    "\n",
    "audio_segments = np.vstack([audio_segments, np.stack(pitch_augmented_segs)])"
   ]
  },
  {
   "cell_type": "code",
   "execution_count": 76,
   "id": "b77ecccd",
   "metadata": {},
   "outputs": [
    {
     "data": {
      "text/plain": [
       "(72, 110250)"
      ]
     },
     "execution_count": 76,
     "metadata": {},
     "output_type": "execute_result"
    }
   ],
   "source": [
    "audio_segments.shape"
   ]
  },
  {
   "cell_type": "code",
   "execution_count": 135,
   "id": "7a291423",
   "metadata": {},
   "outputs": [],
   "source": [
    "import pydub\n",
    "\n",
    "audio_segment = audio_segments[0]\n",
    "segment = AudioSegment(\n",
    "    audio_segment.tobytes(), \n",
    "    frame_rate=fs,\n",
    "    sample_width=audio_segment.dtype.itemsize, \n",
    "    channels=1\n",
    ")"
   ]
  },
  {
   "cell_type": "code",
   "execution_count": 93,
   "id": "3d10c318",
   "metadata": {},
   "outputs": [],
   "source": [
    "# make filenames for saving\n"
   ]
  },
  {
   "cell_type": "code",
   "execution_count": 130,
   "id": "5291bcdd",
   "metadata": {},
   "outputs": [
    {
     "data": {
      "text/plain": [
       "PosixPath('target/pop.00000.wav_seg0.jpg')"
      ]
     },
     "execution_count": 130,
     "metadata": {},
     "output_type": "execute_result"
    }
   ],
   "source": [
    "from pathlib import Path\n",
    "\n",
    "save_paths = []\n",
    "for i in range(audio_segments.shape[0]):\n",
    "    save_paths.append(Path(os.path.join(\"target\", f'{audio_file}_seg{i}.wav')))\n",
    "save_paths[0].with_suffix('.jpg')"
   ]
  },
  {
   "cell_type": "code",
   "execution_count": 137,
   "id": "c19062b8",
   "metadata": {},
   "outputs": [
    {
     "data": {
      "text/plain": [
       "PosixPath('target/pop.00000.wav_seg0.wav')"
      ]
     },
     "execution_count": 137,
     "metadata": {},
     "output_type": "execute_result"
    }
   ],
   "source": [
    "save_paths[0]."
   ]
  }
 ],
 "metadata": {
  "kernelspec": {
   "display_name": "Python 3 (ipykernel)",
   "language": "python",
   "name": "python3"
  },
  "language_info": {
   "codemirror_mode": {
    "name": "ipython",
    "version": 3
   },
   "file_extension": ".py",
   "mimetype": "text/x-python",
   "name": "python",
   "nbconvert_exporter": "python",
   "pygments_lexer": "ipython3",
   "version": "3.8.3"
  }
 },
 "nbformat": 4,
 "nbformat_minor": 5
}
